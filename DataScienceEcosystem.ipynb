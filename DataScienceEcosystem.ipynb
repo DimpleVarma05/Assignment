{
 "cells": [
  {
   "cell_type": "markdown",
   "id": "1ec131a3-7598-4441-8d43-2339830c577e",
   "metadata": {},
   "source": [
    "# Data Science Tools and Ecosystem"
   ]
  },
  {
   "cell_type": "markdown",
   "id": "2c1dc44c-2f42-4178-8b50-4ca52fb44c65",
   "metadata": {},
   "source": [
    "*In this notebook, Data Science tools and Ecosystems are Summarized*"
   ]
  },
  {
   "cell_type": "markdown",
   "id": "73c949bc-e4cd-4168-aa1f-9b33d244efc1",
   "metadata": {},
   "source": [
    "#### <b>Objectives</b>\n",
    "<ul>\n",
    "    <li>List of some popular Languages</li>\n",
    "    <li>List  of some popular libraries</li>\n",
    "    <li>list of some popular tools</li> "
   ]
  },
  {
   "cell_type": "markdown",
   "id": "d18cbe18-524b-4bef-b9f5-9b811868d779",
   "metadata": {},
   "source": [
    "Some of the popular languages that Data Scientists use are:\n",
    "<ol>\n",
    "<li>Python</li>\n",
    "<li>R</li>\n",
    "<li>SQL</li>\n"
   ]
  },
  {
   "cell_type": "markdown",
   "id": "105172f6-1397-4629-ad69-918acf98de90",
   "metadata": {},
   "source": [
    "Some of the commonly used libraries used by Data Scientist include:\n",
    "<ol>\n",
    "<li>Pandas</li>\n",
    "<li>NumPy</li>\n",
    "<li>Tensorflow</li>\n",
    "<li>Keras</li>"
   ]
  },
  {
   "cell_type": "markdown",
   "id": "47c4e445-a244-41a9-a431-a75f06fa8598",
   "metadata": {},
   "source": [
    "<table style=\"width:20%\">\n",
    "<tr>\n",
    "<th>Data Science Tools</th>\n",
    "</tr>\n",
    "<tr>\n",
    "<td>Tensor flow</td>\n",
    "</tr>\n",
    "<tr>\n",
    "<td>Apache Spark</td>\n",
    "</tr>\n",
    "<tr>\n",
    "<td>Tableau</td>\n",
    "</tr>"
   ]
  },
  {
   "cell_type": "markdown",
   "id": "7a5acc91-cf64-4af3-be3c-80fe0f26e9de",
   "metadata": {},
   "source": [
    "### Below are a few examples of evaluating arithmetic expressions in Python."
   ]
  },
  {
   "cell_type": "code",
   "execution_count": 9,
   "id": "441febff-bc56-41d5-9a5c-84123158bed8",
   "metadata": {},
   "outputs": [
    {
     "name": "stdout",
     "output_type": "stream",
     "text": [
      "17\n"
     ]
    }
   ],
   "source": [
    "x=(3*4)+5\n",
    "print(x)"
   ]
  },
  {
   "cell_type": "markdown",
   "id": "1189d866-63c6-4b70-943a-a0d272d61dd8",
   "metadata": {},
   "source": [
    "### code to convert minutes to hours"
   ]
  },
  {
   "cell_type": "code",
   "execution_count": 13,
   "id": "0bfa3307-63f6-4ae1-867e-efa3afb1b3dd",
   "metadata": {},
   "outputs": [
    {
     "name": "stdout",
     "output_type": "stream",
     "text": [
      "4.0\n"
     ]
    }
   ],
   "source": [
    "minutes=240\n",
    "hours=minutes/60\n",
    "print(hours)\n"
   ]
  },
  {
   "cell_type": "markdown",
   "id": "f18eb9a5-40b5-43cb-a2a7-bafa56cc984f",
   "metadata": {},
   "source": [
    "## Author\n",
    "Dimple Varma Konduru\n"
   ]
  },
  {
   "cell_type": "code",
   "execution_count": null,
   "id": "4021fa5f-a2de-4b17-bd62-0674fcdc853d",
   "metadata": {},
   "outputs": [],
   "source": []
  }
 ],
 "metadata": {
  "kernelspec": {
   "display_name": "Python",
   "language": "python",
   "name": "conda-env-python-py"
  },
  "language_info": {
   "codemirror_mode": {
    "name": "ipython",
    "version": 3
   },
   "file_extension": ".py",
   "mimetype": "text/x-python",
   "name": "python",
   "nbconvert_exporter": "python",
   "pygments_lexer": "ipython3",
   "version": "3.7.12"
  }
 },
 "nbformat": 4,
 "nbformat_minor": 5
}
